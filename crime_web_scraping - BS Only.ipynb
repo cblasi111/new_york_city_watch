{
 "cells": [
  {
   "cell_type": "code",
   "execution_count": 80,
   "metadata": {},
   "outputs": [],
   "source": [
    "# Dependencies\n",
    "#from splinter import Browser\n",
    "import requests \n",
    "from bs4 import BeautifulSoup\n",
    "import pandas as pd\n",
    "from pprint import pprint"
   ]
  },
  {
   "cell_type": "code",
   "execution_count": 81,
   "metadata": {},
   "outputs": [],
   "source": [
    "#Scrape websites\n",
    "#NY DAILY NEWS\n",
    "daily_news_url = \"https://www.nydailynews.com/new-york/nyc-crime/\"\n",
    "r = requests.get(daily_news_url) "
   ]
  },
  {
   "cell_type": "code",
   "execution_count": 82,
   "metadata": {},
   "outputs": [],
   "source": [
    "daily_news_soup = BeautifulSoup(r.content, 'html5lib')"
   ]
  },
  {
   "cell_type": "code",
   "execution_count": 83,
   "metadata": {},
   "outputs": [
    {
     "data": {
      "text/plain": [
       "'Mango man hurls fruit at stranger before attacking him outside Bronx grocery'"
      ]
     },
     "execution_count": 83,
     "metadata": {},
     "output_type": "execute_result"
    }
   ],
   "source": [
    "# Grab the first title\n",
    "daily_news_article = daily_news_soup.find('h6').text\n",
    "daily_news_article"
   ]
  },
  {
   "cell_type": "code",
   "execution_count": 84,
   "metadata": {},
   "outputs": [
    {
     "data": {
      "text/plain": [
       "'Mango man hurls fruit at stranger before attacking him outside Bronx grocery.'"
      ]
     },
     "execution_count": 84,
     "metadata": {},
     "output_type": "execute_result"
    }
   ],
   "source": [
    "# Grab the first paragraph\n",
    "daily_news_para = daily_news_soup.find('p', class_='preview-text spaced spaced-top story-preview spaced-md').text\n",
    "daily_news_para"
   ]
  },
  {
   "cell_type": "code",
   "execution_count": 85,
   "metadata": {},
   "outputs": [
    {
     "data": {
      "text/plain": [
       "'https://www.nydailynews.com/new-york/nyc-crime/ny-man-hurls-fruit-at-man-in-bronx-20190921-u2gal2r6nfdxzi3xknk3oj3ag4-story.html'"
      ]
     },
     "execution_count": 85,
     "metadata": {},
     "output_type": "execute_result"
    }
   ],
   "source": [
    "#Grab the article url using BeautifulSoup only\n",
    "daily_news_story_route = daily_news_soup.find('div', class_='width-100 flex-container-column').find('h6', class_='').find('a')['href']\n",
    "daily_news_split = daily_news_story_route.split('/')\n",
    "daily_news_story_url_split = daily_news_split[3]\n",
    "\n",
    "full_daily_news_story_url = daily_news_url + daily_news_story_url_split\n",
    "full_daily_news_story_url"
   ]
  },
  {
   "cell_type": "code",
   "execution_count": 86,
   "metadata": {},
   "outputs": [],
   "source": [
    "#ABC7NY\n",
    "abc7_url = \"https://www.abc7ny.com/crime\"\n",
    "r = requests.get(abc7_url)"
   ]
  },
  {
   "cell_type": "code",
   "execution_count": 87,
   "metadata": {},
   "outputs": [],
   "source": [
    "abc7_soup = BeautifulSoup(r.content, 'html5lib')"
   ]
  },
  {
   "cell_type": "code",
   "execution_count": 88,
   "metadata": {},
   "outputs": [
    {
     "data": {
      "text/plain": [
       "'Hasidic man beaten and robbed by group of attackers in Brooklyn'"
      ]
     },
     "execution_count": 88,
     "metadata": {},
     "output_type": "execute_result"
    }
   ],
   "source": [
    "# Grab the first title\n",
    "abc7_article = abc7_soup.find('div', class_='grid3').find('div').find('div', class_='headline').text\n",
    "abc7_article"
   ]
  },
  {
   "cell_type": "code",
   "execution_count": 89,
   "metadata": {},
   "outputs": [
    {
     "data": {
      "text/plain": [
       "'/hasidic-man-beaten-and-robbed-by-group-of-attackers-in-brooklyn/5550974/'"
      ]
     },
     "execution_count": 89,
     "metadata": {},
     "output_type": "execute_result"
    }
   ],
   "source": [
    "abc7_article_story_route = abc7_soup.find('div', class_='grid3').find('a')['href']\n",
    "abc7_article_story_route"
   ]
  },
  {
   "cell_type": "code",
   "execution_count": 90,
   "metadata": {},
   "outputs": [
    {
     "data": {
      "text/plain": [
       "'https://www.abc7ny.com/hasidic-man-beaten-and-robbed-by-group-of-attackers-in-brooklyn/5550974/'"
      ]
     },
     "execution_count": 90,
     "metadata": {},
     "output_type": "execute_result"
    }
   ],
   "source": [
    "abc7_article_story_url = abc7_url.replace(\"/crime\", abc7_article_story_route)\n",
    "abc7_article_story_url"
   ]
  },
  {
   "cell_type": "code",
   "execution_count": 92,
   "metadata": {},
   "outputs": [],
   "source": [
    "# Grab another ABC7NY article\n",
    "r = requests.get(abc7_article_story_url)\n",
    "abc7_soup = BeautifulSoup(r.content, 'html5lib')"
   ]
  },
  {
   "cell_type": "code",
   "execution_count": 93,
   "metadata": {},
   "outputs": [
    {
     "data": {
      "text/plain": [
       "'Amber Alert: $35K reward in search for missing 5-year-old NJ girl'"
      ]
     },
     "execution_count": 93,
     "metadata": {},
     "output_type": "execute_result"
    }
   ],
   "source": [
    "abc7_article2 = abc7_soup.find('div', class_='headline').text\n",
    "abc7_article2"
   ]
  },
  {
   "cell_type": "code",
   "execution_count": 94,
   "metadata": {},
   "outputs": [
    {
     "data": {
      "text/plain": [
       "'/amber-alert-$35k-reward-in-search-for-missing-5-year-old-nj-girl/5557793/'"
      ]
     },
     "execution_count": 94,
     "metadata": {},
     "output_type": "execute_result"
    }
   ],
   "source": [
    "abc7_article2_route = abc7_soup.find('div', class_='headline-list-item has-image').find('a')['href']\n",
    "abc7_article2_route"
   ]
  },
  {
   "cell_type": "code",
   "execution_count": 95,
   "metadata": {},
   "outputs": [
    {
     "data": {
      "text/plain": [
       "'https://www.abc7ny.com/amber-alert-$35k-reward-in-search-for-missing-5-year-old-nj-girl/5557793/'"
      ]
     },
     "execution_count": 95,
     "metadata": {},
     "output_type": "execute_result"
    }
   ],
   "source": [
    "abc7_story_url2 = abc7_url.replace(\"/crime\", abc7_article2_route)\n",
    "abc7_story_url2"
   ]
  },
  {
   "cell_type": "code",
   "execution_count": 96,
   "metadata": {},
   "outputs": [],
   "source": [
    "#NBC New York\n",
    "nbc_url = 'https://www.nbcnewyork.com/news/local/'\n",
    "r = requests.get(nbc_url)\n",
    "nbc_soup = BeautifulSoup(r.content, 'html5lib')"
   ]
  },
  {
   "cell_type": "code",
   "execution_count": 97,
   "metadata": {},
   "outputs": [
    {
     "data": {
      "text/plain": [
       "'Man Sentenced for Sex Assault of NJ Girl He Met in Chatroom'"
      ]
     },
     "execution_count": 97,
     "metadata": {},
     "output_type": "execute_result"
    }
   ],
   "source": [
    "# Grab the first title\n",
    "nbc_article = nbc_soup.find('h3', id='headline1').text\n",
    "nbc_article"
   ]
  },
  {
   "cell_type": "code",
   "execution_count": 98,
   "metadata": {},
   "outputs": [
    {
     "data": {
      "text/plain": [
       "'A Florida man who sexually assaulted a 12-year-old New Jersey girl at a hotel in Philadelphia last year has been sentenced to 15 years in federal prison'"
      ]
     },
     "execution_count": 98,
     "metadata": {},
     "output_type": "execute_result"
    }
   ],
   "source": [
    "# Grab the paragraph\n",
    "nbc_paragraph = nbc_soup.find('p', class_='summary').text\n",
    "nbc_paragraph"
   ]
  },
  {
   "cell_type": "code",
   "execution_count": 99,
   "metadata": {},
   "outputs": [
    {
     "data": {
      "text/plain": [
       "'//www.nbcnewyork.com/news/local/Florida-Man-Sentenced-for-Sexually-Assaulting-12-Year-Old-NJ-Girl-After-Meeting-Her-in-Online-Anime-Chatroom-He-Created-560942201.html'"
      ]
     },
     "execution_count": 99,
     "metadata": {},
     "output_type": "execute_result"
    }
   ],
   "source": [
    "nbc_story_url = nbc_soup.find('p', class_='summary').find('a')['href']\n",
    "nbc_story_url"
   ]
  },
  {
   "cell_type": "code",
   "execution_count": 100,
   "metadata": {},
   "outputs": [
    {
     "data": {
      "text/plain": [
       "'http://www.nbcnewyork.com/news/local/Florida-Man-Sentenced-for-Sexually-Assaulting-12-Year-Old-NJ-Girl-After-Meeting-Her-in-Online-Anime-Chatroom-He-Created-560942201.html'"
      ]
     },
     "execution_count": 100,
     "metadata": {},
     "output_type": "execute_result"
    }
   ],
   "source": [
    "nbc_story_url = nbc_story_url.replace('//', 'http://')\n",
    "nbc_story_url"
   ]
  },
  {
   "cell_type": "code",
   "execution_count": 101,
   "metadata": {},
   "outputs": [],
   "source": [
    "#PIX11 Story\n",
    "pix11_url = 'https://pix11.com/category/local-stories/'\n",
    "r = requests.get(pix11_url)\n",
    "pix11_soup = BeautifulSoup(r.content, 'html5lib')"
   ]
  },
  {
   "cell_type": "code",
   "execution_count": 102,
   "metadata": {},
   "outputs": [
    {
     "data": {
      "text/plain": [
       "'7 injured in Washington Heights high-rise building fire:\\xa0FDNY'"
      ]
     },
     "execution_count": 102,
     "metadata": {},
     "output_type": "execute_result"
    }
   ],
   "source": [
    "# Grab the first title\n",
    "pix11_article = pix11_soup.find('h2', class_='entry-title').find('a').text\n",
    "pix11_article"
   ]
  },
  {
   "cell_type": "code",
   "execution_count": 103,
   "metadata": {},
   "outputs": [
    {
     "data": {
      "text/plain": [
       "'https://pix11.com/2019/09/21/7-injured-in-washington-heights-high-rise-fire/'"
      ]
     },
     "execution_count": 103,
     "metadata": {},
     "output_type": "execute_result"
    }
   ],
   "source": [
    "#Grab the url\n",
    "pix11_story_url = pix11_soup.find('h2', class_='entry-title').find('a')['href']\n",
    "pix11_story_url"
   ]
  },
  {
   "cell_type": "code",
   "execution_count": 104,
   "metadata": {},
   "outputs": [],
   "source": [
    "#Visit the URL to grab more info and another story\n",
    "r = requests.get(pix11_story_url)\n",
    "pix11_soup = BeautifulSoup(r.content, 'html5lib')"
   ]
  },
  {
   "cell_type": "code",
   "execution_count": 109,
   "metadata": {},
   "outputs": [
    {
     "data": {
      "text/plain": [
       "'Seven people were injured, two seriously, when a fire broke out at a high-rise building in Manhattan Sept. 20, 2019. (Citizen App)'"
      ]
     },
     "execution_count": 109,
     "metadata": {},
     "output_type": "execute_result"
    }
   ],
   "source": [
    "pix11_paragraph = pix11_soup.find('p', class_='wp-caption-text').text\n",
    "pix11_paragraph"
   ]
  },
  {
   "cell_type": "code",
   "execution_count": 112,
   "metadata": {},
   "outputs": [],
   "source": [
    "#TWITTER\n",
    "#NYCEM - Notify NYC\n",
    "nycem_tweet_url = 'https://twitter.com/NotifyNYC'\n",
    "r = requests.get(nycem_tweet_url)"
   ]
  },
  {
   "cell_type": "code",
   "execution_count": 113,
   "metadata": {},
   "outputs": [],
   "source": [
    "# Create BeautifulSoup object; parse with 'html.parser'\n",
    "nycem_tweet_soup = BeautifulSoup(r.content, 'html5lib')"
   ]
  },
  {
   "cell_type": "code",
   "execution_count": 114,
   "metadata": {},
   "outputs": [
    {
     "data": {
      "text/plain": [
       "'Northbound Q trains are ending at 57 St-7 Av because of NYPD activity at 86 St.\\n\\nExpect delays in both directions.\\n\\nAs an alternative, considering taking the M15 bus or 6 train.'"
      ]
     },
     "execution_count": 114,
     "metadata": {},
     "output_type": "execute_result"
    }
   ],
   "source": [
    "# Scrape the tweet info\n",
    "nycem_tweet = nycem_tweet_soup.find('p', class_='TweetTextSize').text\n",
    "nycem_tweet"
   ]
  },
  {
   "cell_type": "code",
   "execution_count": 115,
   "metadata": {},
   "outputs": [],
   "source": [
    "#FDNY\n",
    "fdny_tweet_url = 'https://twitter.com/FDNY'\n",
    "r = requests.get(fdny_tweet_url)"
   ]
  },
  {
   "cell_type": "code",
   "execution_count": 116,
   "metadata": {},
   "outputs": [],
   "source": [
    "# Create BeautifulSoup object; parse with 'html.parser'\n",
    "fdny_tweet_soup = BeautifulSoup(r.content, 'html5lib')"
   ]
  },
  {
   "cell_type": "code",
   "execution_count": 117,
   "metadata": {},
   "outputs": [
    {
     "data": {
      "text/plain": [
       "'Stay informed 24/7/365! Follow @FDNYalerts, the FDNY’s automated operations feedpic.twitter.com/S7LqqNFnyS'"
      ]
     },
     "execution_count": 117,
     "metadata": {},
     "output_type": "execute_result"
    }
   ],
   "source": [
    "# Scrape the tweet info\n",
    "fdny_tweet = fdny_tweet_soup.find('p', class_='TweetTextSize').text\n",
    "fdny_tweet"
   ]
  },
  {
   "cell_type": "code",
   "execution_count": 124,
   "metadata": {},
   "outputs": [],
   "source": [
    "#NYC Emergency Management\n",
    "nycmgt_tweet_url = 'https://twitter.com/nycemergencymgt'\n",
    "r = requests.get(nycmgt_tweet_url)"
   ]
  },
  {
   "cell_type": "code",
   "execution_count": 125,
   "metadata": {},
   "outputs": [],
   "source": [
    "nycmgt_tweet_soup = BeautifulSoup(r.content, 'html5lib')"
   ]
  },
  {
   "cell_type": "code",
   "execution_count": 126,
   "metadata": {},
   "outputs": [
    {
     "data": {
      "text/plain": [
       "'NYC Emergency Management Issues Travel Advisory for Friday PM Rush\\n\\nRead more: http://on.nyc.gov/climatestrike\\xa0'"
      ]
     },
     "execution_count": 126,
     "metadata": {},
     "output_type": "execute_result"
    }
   ],
   "source": [
    "# Scrape the tweet info\n",
    "nycmgt_tweet = nycmgt_tweet_soup.find('p', class_='TweetTextSize').text\n",
    "nycmgt_tweet"
   ]
  },
  {
   "cell_type": "code",
   "execution_count": 127,
   "metadata": {},
   "outputs": [],
   "source": [
    "#Gothamist\n",
    "gothamist_tweet_url = 'https://twitter.com/Gothamist'\n",
    "r = requests.get(gothamist_tweet_url)"
   ]
  },
  {
   "cell_type": "code",
   "execution_count": 128,
   "metadata": {},
   "outputs": [],
   "source": [
    "gothamist_tweet_soup = BeautifulSoup(r.content, 'html5lib')"
   ]
  },
  {
   "cell_type": "code",
   "execution_count": 129,
   "metadata": {},
   "outputs": [
    {
     "data": {
      "text/plain": [
       "'Thousands Of Young Activists Join Greta Thunberg In NYC Climate Strike\\nhttps://gothamist.com/news/photos-greta-thunberg-nyc-climate-strike\\xa0… #ClimateStrikeNYC #ClimateStrike NYCpic.twitter.com/AfEIFWXVxG'"
      ]
     },
     "execution_count": 129,
     "metadata": {},
     "output_type": "execute_result"
    }
   ],
   "source": [
    "# Scrape the tweet info\n",
    "gothamist_tweet = gothamist_tweet_soup.find('p', class_='TweetTextSize').text\n",
    "gothamist_tweet"
   ]
  },
  {
   "cell_type": "code",
   "execution_count": 16,
   "metadata": {},
   "outputs": [],
   "source": [
    "#NYPDNEWS\n",
    "nypd_tweet_url = 'https://twitter.com/NYPDnews'\n",
    "r = requests.get(nypd_tweet_url)"
   ]
  },
  {
   "cell_type": "code",
   "execution_count": 17,
   "metadata": {},
   "outputs": [],
   "source": [
    "# Create BeautifulSoup object; parse with 'html.parser'\n",
    "nypd_tweet_soup = BeautifulSoup(r.content, 'html5lib')"
   ]
  },
  {
   "cell_type": "code",
   "execution_count": 18,
   "metadata": {},
   "outputs": [
    {
     "data": {
      "text/plain": [
       "'APPREHENDED: Exclusive “before” footage determined that this was an inside job...further investigation revealed that the victim had stored several unattended treats in his desk.pic.twitter.com/qmmWwsFNcC'"
      ]
     },
     "execution_count": 18,
     "metadata": {},
     "output_type": "execute_result"
    }
   ],
   "source": [
    "# Scrape the tweet info\n",
    "nypd_tweet = nypd_tweet_soup.find('p', class_='TweetTextSize').text\n",
    "nypd_tweet"
   ]
  },
  {
   "cell_type": "code",
   "execution_count": 19,
   "metadata": {},
   "outputs": [],
   "source": [
    "#NYPD SCHOOL SAFETY\n",
    "nypd__schools_tweet_url = 'https://twitter.com/NYPDSchools'\n",
    "r = requests.get(nypd__schools_tweet_url)"
   ]
  },
  {
   "cell_type": "code",
   "execution_count": 20,
   "metadata": {},
   "outputs": [],
   "source": [
    "# Create BeautifulSoup object; parse with 'html.parser'\n",
    "nypd_schools_tweet_soup = BeautifulSoup(r.content, 'html5lib')"
   ]
  },
  {
   "cell_type": "code",
   "execution_count": 21,
   "metadata": {},
   "outputs": [
    {
     "data": {
      "text/plain": [
       "'It was an honor to join the Detective Rafael Ramos Foundation this morning at PS59 for their annual backpack giveawaypic.twitter.com/QTVhCkPbYJ – at PS 59 - the William Floyd School'"
      ]
     },
     "execution_count": 21,
     "metadata": {},
     "output_type": "execute_result"
    }
   ],
   "source": [
    "# Scrape the tweet info\n",
    "nypd_schools_tweet = nypd_schools_tweet_soup.find('p', class_='TweetTextSize').text\n",
    "nypd_schools_tweet"
   ]
  },
  {
   "cell_type": "code",
   "execution_count": 22,
   "metadata": {},
   "outputs": [],
   "source": [
    "#NYPD Crime Stoppers\n",
    "crime_stoppers_url = 'https://twitter.com/NYPDTips'\n",
    "r = requests.get(crime_stoppers_url)"
   ]
  },
  {
   "cell_type": "code",
   "execution_count": 23,
   "metadata": {},
   "outputs": [],
   "source": [
    "# Create BeautifulSoup object; parse with 'html.parser'\n",
    "crime_stoppers_soup = BeautifulSoup(r.content, 'html5lib')"
   ]
  },
  {
   "cell_type": "code",
   "execution_count": 24,
   "metadata": {},
   "outputs": [
    {
     "data": {
      "text/plain": [
       "'In the early hours of June 30, 2014, Muncahiso Okeagu was shot and killed in the #Williamsbridge section of #theBronx @NYPD47Pct. This investigation is ongoing and continues today, 5 years later. Let’s take a look at the facts...pic.twitter.com/Dps4jSdpSI'"
      ]
     },
     "execution_count": 24,
     "metadata": {},
     "output_type": "execute_result"
    }
   ],
   "source": [
    "# Scrape the tweet info\n",
    "crime_stoppers_tweet = crime_stoppers_soup.find('p', class_='TweetTextSize').text\n",
    "crime_stoppers_tweet"
   ]
  },
  {
   "cell_type": "code",
   "execution_count": 25,
   "metadata": {},
   "outputs": [],
   "source": [
    "#Safety First NYC\n",
    "safety_first_url = 'https://twitter.com/SafetyFirstNYC'\n",
    "r = requests.get(safety_first_url)"
   ]
  },
  {
   "cell_type": "code",
   "execution_count": 26,
   "metadata": {},
   "outputs": [],
   "source": [
    "# Create BeautifulSoup object; parse with 'html.parser'\n",
    "safety_first_soup = BeautifulSoup(r.content, 'html5lib')"
   ]
  },
  {
   "cell_type": "code",
   "execution_count": 27,
   "metadata": {},
   "outputs": [
    {
     "data": {
      "text/plain": [
       "'Great & Swift Response by @BPShomrim Minutes after the Zman for a 10-34 Person Assaulted in the Shul on 13 Ave & 49 St Suspect was arrested.'"
      ]
     },
     "execution_count": 27,
     "metadata": {},
     "output_type": "execute_result"
    }
   ],
   "source": [
    "# Scrape the tweet info\n",
    "safety_first_tweet = safety_first_soup.find('p', class_='TweetTextSize').text\n",
    "safety_first_tweet"
   ]
  },
  {
   "cell_type": "code",
   "execution_count": 28,
   "metadata": {},
   "outputs": [],
   "source": [
    "#NYC Fire\n",
    "nyc_fire_url = 'https://twitter.com/nycfire'\n",
    "r = requests.get(nyc_fire_url)"
   ]
  },
  {
   "cell_type": "code",
   "execution_count": 29,
   "metadata": {},
   "outputs": [],
   "source": [
    "# Create BeautifulSoup object; parse with 'html.parser'\n",
    "nyc_fire_soup = BeautifulSoup(r.content, 'html5lib')"
   ]
  },
  {
   "cell_type": "code",
   "execution_count": 30,
   "metadata": {},
   "outputs": [
    {
     "data": {
      "text/plain": [
       "'9/20/19 Brooklyn 10-77 Box 571: Fire Location: 238 Bond St Fire on the 2nd floor of a 13 story MD E-226,224,207,219 E-210(H.R Nozzle) E-279(C.F.R.D) L-110,105,131(Fast) L-122,118,124(Vent) B-31,32,48(Safety) R-2 Sq-1 D-11 Rac-2 RB,SB FC http://dlvr.it/RDX0Nz\\xa0'"
      ]
     },
     "execution_count": 30,
     "metadata": {},
     "output_type": "execute_result"
    }
   ],
   "source": [
    "# Scrape the tweet info\n",
    "nyc_fire_tweet = nyc_fire_soup.find('p', class_='TweetTextSize').text\n",
    "nyc_fire_tweet"
   ]
  },
  {
   "cell_type": "code",
   "execution_count": null,
   "metadata": {},
   "outputs": [],
   "source": []
  }
 ],
 "metadata": {
  "kernelspec": {
   "display_name": "Python 3",
   "language": "python",
   "name": "python3"
  },
  "language_info": {
   "codemirror_mode": {
    "name": "ipython",
    "version": 3
   },
   "file_extension": ".py",
   "mimetype": "text/x-python",
   "name": "python",
   "nbconvert_exporter": "python",
   "pygments_lexer": "ipython3",
   "version": "3.7.3"
  }
 },
 "nbformat": 4,
 "nbformat_minor": 2
}
