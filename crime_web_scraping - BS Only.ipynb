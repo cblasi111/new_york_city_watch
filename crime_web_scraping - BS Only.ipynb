{
 "cells": [
  {
   "cell_type": "code",
   "execution_count": 1,
   "metadata": {},
   "outputs": [],
   "source": [
    "# Dependencies\n",
    "#from splinter import Browser\n",
    "import requests \n",
    "from bs4 import BeautifulSoup\n",
    "import pandas as pd\n",
    "from pprint import pprint"
   ]
  },
  {
   "cell_type": "code",
   "execution_count": 2,
   "metadata": {},
   "outputs": [],
   "source": [
    "#Scrape websites\n",
    "#NY DAILY NEWS\n",
    "daily_news_url = \"https://www.nydailynews.com/new-york/nyc-crime/\"\n",
    "r = requests.get(daily_news_url) "
   ]
  },
  {
   "cell_type": "code",
   "execution_count": 3,
   "metadata": {},
   "outputs": [],
   "source": [
    "daily_news_soup = BeautifulSoup(r.content, 'html5lib')"
   ]
  },
  {
   "cell_type": "code",
   "execution_count": 4,
   "metadata": {},
   "outputs": [
    {
     "data": {
      "text/plain": [
       "'NYC man lights van on fire, drives it into storefront in crazed attempt to kill ex-wife'"
      ]
     },
     "execution_count": 4,
     "metadata": {},
     "output_type": "execute_result"
    }
   ],
   "source": [
    "# Grab the first title\n",
    "daily_news_article = daily_news_soup.find('h6').text\n",
    "daily_news_article"
   ]
  },
  {
   "cell_type": "code",
   "execution_count": 5,
   "metadata": {},
   "outputs": [
    {
     "data": {
      "text/plain": [
       "'Anthony Imafidoa, 42, allegedly used some kind of incendiary device to ignite the van and then drove it into the Legacy Africana Market on Bay St. near Broad St. in Stapleton just before 11 p.m. Sunday, cops said.'"
      ]
     },
     "execution_count": 5,
     "metadata": {},
     "output_type": "execute_result"
    }
   ],
   "source": [
    "# Grab the first paragraph\n",
    "daily_news_para = daily_news_soup.find('p', class_='preview-text spaced spaced-top story-preview spaced-md').text\n",
    "daily_news_para"
   ]
  },
  {
   "cell_type": "code",
   "execution_count": 6,
   "metadata": {},
   "outputs": [
    {
     "data": {
      "text/plain": [
       "'https://www.nydailynews.com/new-york/nyc-crime/ny-man-fire-van-building-staten-island-20190923-jrdkutyouzgydjzwknw6gubqea-story.html'"
      ]
     },
     "execution_count": 6,
     "metadata": {},
     "output_type": "execute_result"
    }
   ],
   "source": [
    "#Grab the article url using BeautifulSoup only\n",
    "daily_news_story_route = daily_news_soup.find('div', class_='width-100 flex-container-column').find('h6', class_='').find('a')['href']\n",
    "daily_news_split = daily_news_story_route.split('/')\n",
    "daily_news_story_url_split = daily_news_split[3]\n",
    "\n",
    "full_daily_news_story_url = daily_news_url + daily_news_story_url_split\n",
    "full_daily_news_story_url"
   ]
  },
  {
   "cell_type": "code",
   "execution_count": 7,
   "metadata": {},
   "outputs": [],
   "source": [
    "#ABC7NY\n",
    "abc7_url = \"https://www.abc7ny.com/crime\"\n",
    "r = requests.get(abc7_url)"
   ]
  },
  {
   "cell_type": "code",
   "execution_count": 8,
   "metadata": {},
   "outputs": [],
   "source": [
    "abc7_soup = BeautifulSoup(r.content, 'html5lib')"
   ]
  },
  {
   "cell_type": "code",
   "execution_count": 9,
   "metadata": {},
   "outputs": [
    {
     "data": {
      "text/plain": [
       "\"Bronx bodega burglarized months after boy's cat was stolen\""
      ]
     },
     "execution_count": 9,
     "metadata": {},
     "output_type": "execute_result"
    }
   ],
   "source": [
    "# Grab the first title\n",
    "abc7_article = abc7_soup.find('div', class_='grid3').find('div').find('div', class_='headline').text\n",
    "abc7_article"
   ]
  },
  {
   "cell_type": "code",
   "execution_count": 10,
   "metadata": {},
   "outputs": [
    {
     "data": {
      "text/plain": [
       "'/bronx-bodega-burglarized-months-after-boys-cat-was-stolen/5553515/'"
      ]
     },
     "execution_count": 10,
     "metadata": {},
     "output_type": "execute_result"
    }
   ],
   "source": [
    "abc7_article_story_route = abc7_soup.find('div', class_='grid3').find('a')['href']\n",
    "abc7_article_story_route"
   ]
  },
  {
   "cell_type": "code",
   "execution_count": 11,
   "metadata": {},
   "outputs": [
    {
     "data": {
      "text/plain": [
       "'https://www.abc7ny.com/bronx-bodega-burglarized-months-after-boys-cat-was-stolen/5553515/'"
      ]
     },
     "execution_count": 11,
     "metadata": {},
     "output_type": "execute_result"
    }
   ],
   "source": [
    "abc7_article_story_url = abc7_url.replace(\"/crime\", abc7_article_story_route)\n",
    "abc7_article_story_url"
   ]
  },
  {
   "cell_type": "code",
   "execution_count": 12,
   "metadata": {},
   "outputs": [],
   "source": [
    "# Grab another ABC7NY article\n",
    "r = requests.get(abc7_article_story_url)\n",
    "abc7_soup = BeautifulSoup(r.content, 'html5lib')"
   ]
  },
  {
   "cell_type": "code",
   "execution_count": 13,
   "metadata": {
    "scrolled": true
   },
   "outputs": [
    {
     "data": {
      "text/plain": [
       "'Man jumps in front of train while holding daughter, police say'"
      ]
     },
     "execution_count": 13,
     "metadata": {},
     "output_type": "execute_result"
    }
   ],
   "source": [
    "abc7_article2 = abc7_soup.find('div', class_='headline').text\n",
    "abc7_article2"
   ]
  },
  {
   "cell_type": "code",
   "execution_count": 14,
   "metadata": {},
   "outputs": [
    {
     "data": {
      "text/plain": [
       "'/traffic/man-jumps-in-front-of-train-while-holding-daughter-police-say/5560911/'"
      ]
     },
     "execution_count": 14,
     "metadata": {},
     "output_type": "execute_result"
    }
   ],
   "source": [
    "abc7_article2_route = abc7_soup.find('div', class_='headline-list-item has-image').find('a')['href']\n",
    "abc7_article2_route"
   ]
  },
  {
   "cell_type": "code",
   "execution_count": 15,
   "metadata": {},
   "outputs": [
    {
     "data": {
      "text/plain": [
       "'https://www.abc7ny.com/traffic/man-jumps-in-front-of-train-while-holding-daughter-police-say/5560911/'"
      ]
     },
     "execution_count": 15,
     "metadata": {},
     "output_type": "execute_result"
    }
   ],
   "source": [
    "abc7_story_url2 = abc7_url.replace(\"/crime\", abc7_article2_route)\n",
    "abc7_story_url2"
   ]
  },
  {
   "cell_type": "code",
   "execution_count": 16,
   "metadata": {},
   "outputs": [],
   "source": [
    "#NBC New York\n",
    "nbc_url = 'https://www.nbcnewyork.com/news/local/'\n",
    "r = requests.get(nbc_url)\n",
    "nbc_soup = BeautifulSoup(r.content, 'html5lib')"
   ]
  },
  {
   "cell_type": "code",
   "execution_count": 17,
   "metadata": {},
   "outputs": [
    {
     "data": {
      "text/plain": [
       "'Gridlock! Street Closures for the 2019 UN General Assembly'"
      ]
     },
     "execution_count": 17,
     "metadata": {},
     "output_type": "execute_result"
    }
   ],
   "source": [
    "# Grab the first title\n",
    "nbc_article = nbc_soup.find('h3', id='headline1').text\n",
    "nbc_article"
   ]
  },
  {
   "cell_type": "code",
   "execution_count": 18,
   "metadata": {},
   "outputs": [
    {
     "data": {
      "text/plain": [
       "'The New York City Police Department announced street closures and anticipated traffic delays relating to the UN General Assembly.'"
      ]
     },
     "execution_count": 18,
     "metadata": {},
     "output_type": "execute_result"
    }
   ],
   "source": [
    "# Grab the paragraph\n",
    "nbc_paragraph = nbc_soup.find('p', class_='summary').text\n",
    "nbc_paragraph"
   ]
  },
  {
   "cell_type": "code",
   "execution_count": 19,
   "metadata": {},
   "outputs": [
    {
     "data": {
      "text/plain": [
       "'//www.nbcnewyork.com/news/local/Street-Closures-for-the-2019-UN-General-Assembly-560863911.html'"
      ]
     },
     "execution_count": 19,
     "metadata": {},
     "output_type": "execute_result"
    }
   ],
   "source": [
    "nbc_story_url = nbc_soup.find('p', class_='summary').find('a')['href']\n",
    "nbc_story_url"
   ]
  },
  {
   "cell_type": "code",
   "execution_count": 20,
   "metadata": {},
   "outputs": [
    {
     "data": {
      "text/plain": [
       "'http://www.nbcnewyork.com/news/local/Street-Closures-for-the-2019-UN-General-Assembly-560863911.html'"
      ]
     },
     "execution_count": 20,
     "metadata": {},
     "output_type": "execute_result"
    }
   ],
   "source": [
    "nbc_story_url = nbc_story_url.replace('//', 'http://')\n",
    "nbc_story_url"
   ]
  },
  {
   "cell_type": "code",
   "execution_count": 21,
   "metadata": {},
   "outputs": [],
   "source": [
    "#PIX11 Story\n",
    "pix11_url = 'https://pix11.com/category/local-stories/'\n",
    "r = requests.get(pix11_url)\n",
    "pix11_soup = BeautifulSoup(r.content, 'html5lib')"
   ]
  },
  {
   "cell_type": "code",
   "execution_count": 22,
   "metadata": {},
   "outputs": [
    {
     "data": {
      "text/plain": [
       "'Man hit by train, killed when he jumped on tracks while holding daughter in the Bronx:\\xa0police'"
      ]
     },
     "execution_count": 22,
     "metadata": {},
     "output_type": "execute_result"
    }
   ],
   "source": [
    "# Grab the first title\n",
    "pix11_article = pix11_soup.find('h2', class_='entry-title').find('a').text\n",
    "pix11_article"
   ]
  },
  {
   "cell_type": "code",
   "execution_count": 23,
   "metadata": {},
   "outputs": [
    {
     "data": {
      "text/plain": [
       "'https://pix11.com/2019/09/23/man-hit-by-train-killed-when-he-jumped-on-tracks-while-holding-daughter/'"
      ]
     },
     "execution_count": 23,
     "metadata": {},
     "output_type": "execute_result"
    }
   ],
   "source": [
    "#Grab the url\n",
    "pix11_story_url = pix11_soup.find('h2', class_='entry-title').find('a')['href']\n",
    "pix11_story_url"
   ]
  },
  {
   "cell_type": "code",
   "execution_count": 24,
   "metadata": {},
   "outputs": [],
   "source": [
    "#Visit the URL to grab more info and another story\n",
    "r = requests.get(pix11_story_url)\n",
    "pix11_soup = BeautifulSoup(r.content, 'html5lib')"
   ]
  },
  {
   "cell_type": "code",
   "execution_count": 25,
   "metadata": {},
   "outputs": [
    {
     "data": {
      "text/plain": [
       "'KINGSBRIDGE HEIGHTS, the Bronx — A man died Monday when he jumped in front of an oncoming subway train in the Bronx with his child, according to police.'"
      ]
     },
     "execution_count": 25,
     "metadata": {},
     "output_type": "execute_result"
    }
   ],
   "source": [
    "pix11_paragraph = pix11_soup.find('div', class_='entry-content').find('p').text\n",
    "pix11_paragraph"
   ]
  },
  {
   "cell_type": "code",
   "execution_count": 26,
   "metadata": {},
   "outputs": [],
   "source": [
    "#NY TIMES\n",
    "ny_times_url = 'https://www.nytimes.com/section/nyregion'\n",
    "r = requests.get(ny_times_url)"
   ]
  },
  {
   "cell_type": "code",
   "execution_count": 27,
   "metadata": {},
   "outputs": [],
   "source": [
    "ny_times_soup = BeautifulSoup(r.content, 'html5lib')"
   ]
  },
  {
   "cell_type": "code",
   "execution_count": 28,
   "metadata": {},
   "outputs": [
    {
     "data": {
      "text/plain": [
       "'Man Dies After Jumping on Subway Tracks With Daughter, 5, Police Say'"
      ]
     },
     "execution_count": 28,
     "metadata": {},
     "output_type": "execute_result"
    }
   ],
   "source": [
    "# Grab the first title\n",
    "nytimes_article = ny_times_soup.find('div', class_='css-10wtrbd').find('h2').text\n",
    "nytimes_article"
   ]
  },
  {
   "cell_type": "code",
   "execution_count": 29,
   "metadata": {},
   "outputs": [
    {
     "data": {
      "text/plain": [
       "'The girl survived after her father jumped in front of a train at the Kingsbridge Road station in the Bronx, officials said.'"
      ]
     },
     "execution_count": 29,
     "metadata": {},
     "output_type": "execute_result"
    }
   ],
   "source": [
    "#Grab the paragraph\n",
    "nytimes_paragraph = ny_times_soup.find('div', class_='css-10wtrbd').find('p').text\n",
    "nytimes_paragraph"
   ]
  },
  {
   "cell_type": "code",
   "execution_count": 30,
   "metadata": {},
   "outputs": [
    {
     "data": {
      "text/plain": [
       "'/2019/09/23/nyregion/subway-jump-dad-daughter.html'"
      ]
     },
     "execution_count": 30,
     "metadata": {},
     "output_type": "execute_result"
    }
   ],
   "source": [
    "nytimes_storyl_route = ny_times_soup.find('div', class_='css-10wtrbd').find('a')['href']\n",
    "nytimes_storyl_route"
   ]
  },
  {
   "cell_type": "code",
   "execution_count": 31,
   "metadata": {},
   "outputs": [
    {
     "data": {
      "text/plain": [
       "'https://www.nytimes.com/2019/09/23/nyregion/subway-jump-dad-daughter.html'"
      ]
     },
     "execution_count": 31,
     "metadata": {},
     "output_type": "execute_result"
    }
   ],
   "source": [
    "nytimes_story_url = ny_times_url.replace('/section/nyregion', nytimes_storyl_route)\n",
    "nytimes_story_url"
   ]
  },
  {
   "cell_type": "code",
   "execution_count": 59,
   "metadata": {},
   "outputs": [],
   "source": [
    "#TWITTER\n",
    "#NYCEM - Notify NYC\n",
    "nycem_tweet_url = 'https://twitter.com/NotifyNYC'\n",
    "r = requests.get(nycem_tweet_url)"
   ]
  },
  {
   "cell_type": "code",
   "execution_count": 60,
   "metadata": {},
   "outputs": [],
   "source": [
    "# Create BeautifulSoup object; parse with 'html.parser'\n",
    "nycem_tweet_soup = BeautifulSoup(r.content, 'html5lib')"
   ]
  },
  {
   "cell_type": "code",
   "execution_count": 34,
   "metadata": {},
   "outputs": [
    {
     "data": {
      "text/plain": [
       "'.@NYCTSubway Following a prior service disruption, 4 train service has resumed in both directions. Expect residual delays. Multilingual & ASL Link: http://on.nyc.gov/2qxH91g\\xa0.'"
      ]
     },
     "execution_count": 34,
     "metadata": {},
     "output_type": "execute_result"
    }
   ],
   "source": [
    "# Scrape the tweet info\n",
    "nycem_tweet = nycem_tweet_soup.find('p', class_='TweetTextSize').text\n",
    "nycem_tweet"
   ]
  },
  {
   "cell_type": "code",
   "execution_count": 35,
   "metadata": {},
   "outputs": [],
   "source": [
    "#FDNY\n",
    "fdny_tweet_url = 'https://twitter.com/FDNY'\n",
    "r = requests.get(fdny_tweet_url)"
   ]
  },
  {
   "cell_type": "code",
   "execution_count": 36,
   "metadata": {},
   "outputs": [],
   "source": [
    "# Create BeautifulSoup object; parse with 'html.parser'\n",
    "fdny_tweet_soup = BeautifulSoup(r.content, 'html5lib')"
   ]
  },
  {
   "cell_type": "code",
   "execution_count": 37,
   "metadata": {},
   "outputs": [
    {
     "data": {
      "text/plain": [
       "'Stay informed 24/7/365! Follow @FDNYalerts, the FDNY’s automated operations feedpic.twitter.com/S7LqqNFnyS'"
      ]
     },
     "execution_count": 37,
     "metadata": {},
     "output_type": "execute_result"
    }
   ],
   "source": [
    "# Scrape the tweet info\n",
    "fdny_tweet = fdny_tweet_soup.find('p', class_='TweetTextSize').text\n",
    "fdny_tweet"
   ]
  },
  {
   "cell_type": "code",
   "execution_count": 38,
   "metadata": {},
   "outputs": [],
   "source": [
    "#NYC Emergency Management\n",
    "nycmgt_tweet_url = 'https://twitter.com/nycemergencymgt'\n",
    "r = requests.get(nycmgt_tweet_url)"
   ]
  },
  {
   "cell_type": "code",
   "execution_count": 39,
   "metadata": {},
   "outputs": [],
   "source": [
    "nycmgt_tweet_soup = BeautifulSoup(r.content, 'html5lib')"
   ]
  },
  {
   "cell_type": "code",
   "execution_count": 40,
   "metadata": {},
   "outputs": [
    {
     "data": {
      "text/plain": [
       "'#MondayMotivation: Get motivated to help your community during an emergency. Do you own or manage a large space or facility? It can potentially be used to support the City’s emergency operations. Take the #ShareYourSpace survey to find out: http://NYC.gov/shareyourspacesurvey\\xa0….pic.twitter.com/Yo9TnR4Gq9'"
      ]
     },
     "execution_count": 40,
     "metadata": {},
     "output_type": "execute_result"
    }
   ],
   "source": [
    "# Scrape the tweet info\n",
    "nycmgt_tweet = nycmgt_tweet_soup.find('p', class_='TweetTextSize').text\n",
    "nycmgt_tweet"
   ]
  },
  {
   "cell_type": "code",
   "execution_count": 41,
   "metadata": {},
   "outputs": [],
   "source": [
    "#Gothamist\n",
    "gothamist_tweet_url = 'https://twitter.com/Gothamist'\n",
    "r = requests.get(gothamist_tweet_url)"
   ]
  },
  {
   "cell_type": "code",
   "execution_count": 42,
   "metadata": {},
   "outputs": [],
   "source": [
    "gothamist_tweet_soup = BeautifulSoup(r.content, 'html5lib')"
   ]
  },
  {
   "cell_type": "code",
   "execution_count": 43,
   "metadata": {},
   "outputs": [
    {
     "data": {
      "text/plain": [
       "'Oculus Skylight, Which Stayed Closed For 9/11 Tribute, Will Need $200,000 Seal\\nhttps://gothamist.com/news/oculus-skylight-which-stayed-closed-911-tribute-will-need-200000-seal\\xa0…pic.twitter.com/NrvkJsWWVZ'"
      ]
     },
     "execution_count": 43,
     "metadata": {},
     "output_type": "execute_result"
    }
   ],
   "source": [
    "# Scrape the tweet info\n",
    "gothamist_tweet = gothamist_tweet_soup.find('p', class_='TweetTextSize').text\n",
    "gothamist_tweet"
   ]
  },
  {
   "cell_type": "code",
   "execution_count": 44,
   "metadata": {},
   "outputs": [],
   "source": [
    "#NYPDNEWS\n",
    "nypd_tweet_url = 'https://twitter.com/NYPDnews'\n",
    "r = requests.get(nypd_tweet_url)"
   ]
  },
  {
   "cell_type": "code",
   "execution_count": 45,
   "metadata": {},
   "outputs": [],
   "source": [
    "# Create BeautifulSoup object; parse with 'html.parser'\n",
    "nypd_tweet_soup = BeautifulSoup(r.content, 'html5lib')"
   ]
  },
  {
   "cell_type": "code",
   "execution_count": 46,
   "metadata": {},
   "outputs": [
    {
     "data": {
      "text/plain": [
       "'Our condolences go out to the family & friends of Captain Vincent Liberto of the Mandeville Police Department in Louisiana, who was shot and killed in the line of duty on Friday during a vehicle pursuit. He was a @USMC veteran & leaves behind a wife & seven kids. #FidelisAdMortempic.twitter.com/slYI1CwkEJ'"
      ]
     },
     "execution_count": 46,
     "metadata": {},
     "output_type": "execute_result"
    }
   ],
   "source": [
    "# Scrape the tweet info\n",
    "nypd_tweet = nypd_tweet_soup.find('p', class_='TweetTextSize').text\n",
    "nypd_tweet"
   ]
  },
  {
   "cell_type": "code",
   "execution_count": 47,
   "metadata": {},
   "outputs": [],
   "source": [
    "#NYPD SCHOOL SAFETY\n",
    "nypd__schools_tweet_url = 'https://twitter.com/NYPDSchools'\n",
    "r = requests.get(nypd__schools_tweet_url)"
   ]
  },
  {
   "cell_type": "code",
   "execution_count": 48,
   "metadata": {},
   "outputs": [],
   "source": [
    "# Create BeautifulSoup object; parse with 'html.parser'\n",
    "nypd_schools_tweet_soup = BeautifulSoup(r.content, 'html5lib')"
   ]
  },
  {
   "cell_type": "code",
   "execution_count": 49,
   "metadata": {},
   "outputs": [
    {
     "data": {
      "text/plain": [
       "'The 13th Pct Explorer Advisors and Washington Irving SCA’s Presents their Back to School Event. We are providing positive safe haven events that build lasting relationships within the school and community. #NYPDConnectingpic.twitter.com/6AWKQgZPKm'"
      ]
     },
     "execution_count": 49,
     "metadata": {},
     "output_type": "execute_result"
    }
   ],
   "source": [
    "# Scrape the tweet info\n",
    "nypd_schools_tweet = nypd_schools_tweet_soup.find('p', class_='TweetTextSize').text\n",
    "nypd_schools_tweet"
   ]
  },
  {
   "cell_type": "code",
   "execution_count": 50,
   "metadata": {},
   "outputs": [],
   "source": [
    "#NYPD Crime Stoppers\n",
    "crime_stoppers_url = 'https://twitter.com/NYPDTips'\n",
    "r = requests.get(crime_stoppers_url)"
   ]
  },
  {
   "cell_type": "code",
   "execution_count": 51,
   "metadata": {},
   "outputs": [],
   "source": [
    "# Create BeautifulSoup object; parse with 'html.parser'\n",
    "crime_stoppers_soup = BeautifulSoup(r.content, 'html5lib')"
   ]
  },
  {
   "cell_type": "code",
   "execution_count": 52,
   "metadata": {},
   "outputs": [
    {
     "data": {
      "text/plain": [
       "'In the early hours of June 30, 2014, Muncahiso Okeagu was shot and killed in the #Williamsbridge section of #theBronx @NYPD47Pct. This investigation is ongoing and continues today, 5 years later. Let’s take a look at the facts...pic.twitter.com/Dps4jSdpSI'"
      ]
     },
     "execution_count": 52,
     "metadata": {},
     "output_type": "execute_result"
    }
   ],
   "source": [
    "# Scrape the tweet info\n",
    "crime_stoppers_tweet = crime_stoppers_soup.find('p', class_='TweetTextSize').text\n",
    "crime_stoppers_tweet"
   ]
  },
  {
   "cell_type": "code",
   "execution_count": 53,
   "metadata": {},
   "outputs": [],
   "source": [
    "#Safety First NYC\n",
    "safety_first_url = 'https://twitter.com/SafetyFirstNYC'\n",
    "r = requests.get(safety_first_url)"
   ]
  },
  {
   "cell_type": "code",
   "execution_count": 54,
   "metadata": {},
   "outputs": [],
   "source": [
    "# Create BeautifulSoup object; parse with 'html.parser'\n",
    "safety_first_soup = BeautifulSoup(r.content, 'html5lib')"
   ]
  },
  {
   "cell_type": "code",
   "execution_count": 55,
   "metadata": {},
   "outputs": [
    {
     "data": {
      "text/plain": [
       "'Great & Swift Response by @BPShomrim Minutes after the Zman for a 10-34 Person Assaulted in the Shul on 13 Ave & 49 St Suspect was arrested.'"
      ]
     },
     "execution_count": 55,
     "metadata": {},
     "output_type": "execute_result"
    }
   ],
   "source": [
    "# Scrape the tweet info\n",
    "safety_first_tweet = safety_first_soup.find('p', class_='TweetTextSize').text\n",
    "safety_first_tweet"
   ]
  },
  {
   "cell_type": "code",
   "execution_count": 56,
   "metadata": {},
   "outputs": [],
   "source": [
    "#NYC Fire\n",
    "nyc_fire_url = 'https://twitter.com/nycfire'\n",
    "r = requests.get(nyc_fire_url)"
   ]
  },
  {
   "cell_type": "code",
   "execution_count": 57,
   "metadata": {},
   "outputs": [],
   "source": [
    "# Create BeautifulSoup object; parse with 'html.parser'\n",
    "nyc_fire_soup = BeautifulSoup(r.content, 'html5lib')"
   ]
  },
  {
   "cell_type": "code",
   "execution_count": 58,
   "metadata": {},
   "outputs": [
    {
     "data": {
      "text/plain": [
       "'9/23/19 Manhattan 10-75 Box 2025: Fire Location: 345 South End Ave Fire 2nd floor dryer 7 story 175x100 http://dlvr.it/RDjQDx\\xa0'"
      ]
     },
     "execution_count": 58,
     "metadata": {},
     "output_type": "execute_result"
    }
   ],
   "source": [
    "# Scrape the tweet info\n",
    "nyc_fire_tweet = nyc_fire_soup.find('p', class_='TweetTextSize').text\n",
    "nyc_fire_tweet"
   ]
  },
  {
   "cell_type": "code",
   "execution_count": null,
   "metadata": {},
   "outputs": [],
   "source": []
  }
 ],
 "metadata": {
  "kernelspec": {
   "display_name": "Python 3",
   "language": "python",
   "name": "python3"
  },
  "language_info": {
   "codemirror_mode": {
    "name": "ipython",
    "version": 3
   },
   "file_extension": ".py",
   "mimetype": "text/x-python",
   "name": "python",
   "nbconvert_exporter": "python",
   "pygments_lexer": "ipython3",
   "version": "3.7.3"
  }
 },
 "nbformat": 4,
 "nbformat_minor": 2
}
